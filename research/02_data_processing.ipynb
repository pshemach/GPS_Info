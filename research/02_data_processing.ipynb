{
 "cells": [
  {
   "cell_type": "code",
   "execution_count": 1,
   "metadata": {},
   "outputs": [],
   "source": [
    "import pandas as pd\n",
    "import matplotlib.pyplot as plt\n",
    "import seaborn as sns\n",
    "from sklearn.cluster import KMeans\n",
    "import numpy as np\n",
    "from math import radians, sin, cos, sqrt, atan2\n",
    "\n",
    "%matplotlib inline"
   ]
  },
  {
   "cell_type": "code",
   "execution_count": 2,
   "metadata": {},
   "outputs": [
    {
     "data": {
      "text/html": [
       "<div>\n",
       "<style scoped>\n",
       "    .dataframe tbody tr th:only-of-type {\n",
       "        vertical-align: middle;\n",
       "    }\n",
       "\n",
       "    .dataframe tbody tr th {\n",
       "        vertical-align: top;\n",
       "    }\n",
       "\n",
       "    .dataframe thead th {\n",
       "        text-align: right;\n",
       "    }\n",
       "</style>\n",
       "<table border=\"1\" class=\"dataframe\">\n",
       "  <thead>\n",
       "    <tr style=\"text-align: right;\">\n",
       "      <th></th>\n",
       "      <th>Id</th>\n",
       "      <th>Longitude</th>\n",
       "      <th>Latitude</th>\n",
       "      <th>Accuracy</th>\n",
       "      <th>TimeStamp</th>\n",
       "      <th>Date</th>\n",
       "      <th>DateTime</th>\n",
       "      <th>IsGPSOn</th>\n",
       "      <th>BatLevel</th>\n",
       "      <th>Provider</th>\n",
       "      <th>Bearing</th>\n",
       "      <th>DeviceTime</th>\n",
       "      <th>RepId</th>\n",
       "    </tr>\n",
       "  </thead>\n",
       "  <tbody>\n",
       "    <tr>\n",
       "      <th>0</th>\n",
       "      <td>883873960</td>\n",
       "      <td>80.55590</td>\n",
       "      <td>7.16898</td>\n",
       "      <td>2.3</td>\n",
       "      <td>1695694012000</td>\n",
       "      <td>26/09/2023 12:00:00 AM</td>\n",
       "      <td>26/09/2023 2:06:52 AM</td>\n",
       "      <td>True</td>\n",
       "      <td>0</td>\n",
       "      <td>gps</td>\n",
       "      <td>124.15</td>\n",
       "      <td>26/09/2023 7:36:54 AM</td>\n",
       "      <td>395</td>\n",
       "    </tr>\n",
       "    <tr>\n",
       "      <th>1</th>\n",
       "      <td>883873961</td>\n",
       "      <td>80.55589</td>\n",
       "      <td>7.16899</td>\n",
       "      <td>2.1</td>\n",
       "      <td>1695694025000</td>\n",
       "      <td>26/09/2023 12:00:00 AM</td>\n",
       "      <td>26/09/2023 2:07:05 AM</td>\n",
       "      <td>True</td>\n",
       "      <td>0</td>\n",
       "      <td>gps</td>\n",
       "      <td>152.95</td>\n",
       "      <td>26/09/2023 7:37:05 AM</td>\n",
       "      <td>395</td>\n",
       "    </tr>\n",
       "    <tr>\n",
       "      <th>2</th>\n",
       "      <td>883874460</td>\n",
       "      <td>80.55589</td>\n",
       "      <td>7.16899</td>\n",
       "      <td>3.6</td>\n",
       "      <td>1695694027676</td>\n",
       "      <td>26/09/2023 12:00:00 AM</td>\n",
       "      <td>26/09/2023 2:07:08 AM</td>\n",
       "      <td>True</td>\n",
       "      <td>0</td>\n",
       "      <td>gps</td>\n",
       "      <td>201.10</td>\n",
       "      <td>26/09/2023 7:37:08 AM</td>\n",
       "      <td>395</td>\n",
       "    </tr>\n",
       "  </tbody>\n",
       "</table>\n",
       "</div>"
      ],
      "text/plain": [
       "          Id  Longitude  Latitude  Accuracy      TimeStamp  \\\n",
       "0  883873960   80.55590   7.16898       2.3  1695694012000   \n",
       "1  883873961   80.55589   7.16899       2.1  1695694025000   \n",
       "2  883874460   80.55589   7.16899       3.6  1695694027676   \n",
       "\n",
       "                     Date               DateTime  IsGPSOn  BatLevel Provider  \\\n",
       "0  26/09/2023 12:00:00 AM  26/09/2023 2:06:52 AM     True         0      gps   \n",
       "1  26/09/2023 12:00:00 AM  26/09/2023 2:07:05 AM     True         0      gps   \n",
       "2  26/09/2023 12:00:00 AM  26/09/2023 2:07:08 AM     True         0      gps   \n",
       "\n",
       "   Bearing             DeviceTime  RepId  \n",
       "0   124.15  26/09/2023 7:36:54 AM    395  \n",
       "1   152.95  26/09/2023 7:37:05 AM    395  \n",
       "2   201.10  26/09/2023 7:37:08 AM    395  "
      ]
     },
     "execution_count": 2,
     "metadata": {},
     "output_type": "execute_result"
    }
   ],
   "source": [
    "df = pd.read_csv('../data/gps.csv')\n",
    "df.head(3)"
   ]
  },
  {
   "cell_type": "code",
   "execution_count": 3,
   "metadata": {},
   "outputs": [],
   "source": [
    "def date_time_formating(series):\n",
    "    return pd.to_datetime(series, format='%d/%m/%Y %I:%M:%S %p')\n",
    "\n",
    "df['Date'] = date_time_formating(df['Date'])\n",
    "df['DateTime'] = date_time_formating(df['DateTime'])\n",
    "df['DeviceTime'] = date_time_formating(df['DeviceTime'])"
   ]
  },
  {
   "cell_type": "code",
   "execution_count": 4,
   "metadata": {},
   "outputs": [],
   "source": [
    "df.drop(columns=['Id'], axis=1, inplace=True)"
   ]
  },
  {
   "cell_type": "code",
   "execution_count": 5,
   "metadata": {},
   "outputs": [],
   "source": [
    "df.drop_duplicates(ignore_index=True, inplace=True)"
   ]
  },
  {
   "cell_type": "code",
   "execution_count": 6,
   "metadata": {},
   "outputs": [
    {
     "data": {
      "text/plain": [
       "(29843, 12)"
      ]
     },
     "execution_count": 6,
     "metadata": {},
     "output_type": "execute_result"
    }
   ],
   "source": [
    "df.shape"
   ]
  },
  {
   "cell_type": "code",
   "execution_count": null,
   "metadata": {},
   "outputs": [],
   "source": []
  }
 ],
 "metadata": {
  "kernelspec": {
   "display_name": ".venv",
   "language": "python",
   "name": "python3"
  },
  "language_info": {
   "codemirror_mode": {
    "name": "ipython",
    "version": 3
   },
   "file_extension": ".py",
   "mimetype": "text/x-python",
   "name": "python",
   "nbconvert_exporter": "python",
   "pygments_lexer": "ipython3",
   "version": "3.11.5"
  }
 },
 "nbformat": 4,
 "nbformat_minor": 2
}
