{
 "cells": [
  {
   "cell_type": "code",
   "execution_count": 1,
   "metadata": {},
   "outputs": [],
   "source": [
    "import pandas as pd"
   ]
  },
  {
   "cell_type": "code",
   "execution_count": 6,
   "metadata": {},
   "outputs": [
    {
     "data": {
      "text/html": [
       "<div>\n",
       "<style scoped>\n",
       "    .dataframe tbody tr th:only-of-type {\n",
       "        vertical-align: middle;\n",
       "    }\n",
       "\n",
       "    .dataframe tbody tr th {\n",
       "        vertical-align: top;\n",
       "    }\n",
       "\n",
       "    .dataframe thead th {\n",
       "        text-align: right;\n",
       "    }\n",
       "</style>\n",
       "<table border=\"1\" class=\"dataframe\">\n",
       "  <thead>\n",
       "    <tr style=\"text-align: right;\">\n",
       "      <th></th>\n",
       "      <th>Id</th>\n",
       "      <th>Longitude</th>\n",
       "      <th>Latitude</th>\n",
       "      <th>Accuracy</th>\n",
       "      <th>TimeStamp</th>\n",
       "      <th>Date</th>\n",
       "      <th>DateTime</th>\n",
       "      <th>IsGPSOn</th>\n",
       "      <th>BatLevel</th>\n",
       "      <th>Provider</th>\n",
       "      <th>Bearing</th>\n",
       "      <th>DeviceTime</th>\n",
       "      <th>RepId</th>\n",
       "    </tr>\n",
       "  </thead>\n",
       "  <tbody>\n",
       "    <tr>\n",
       "      <th>0</th>\n",
       "      <td>883873960</td>\n",
       "      <td>80.55590</td>\n",
       "      <td>7.16898</td>\n",
       "      <td>2.3</td>\n",
       "      <td>1695694012000</td>\n",
       "      <td>26/09/2023 12:00:00 AM</td>\n",
       "      <td>26/09/2023 2:06:52 AM</td>\n",
       "      <td>True</td>\n",
       "      <td>0</td>\n",
       "      <td>gps</td>\n",
       "      <td>124.15</td>\n",
       "      <td>26/09/2023 7:36:54 AM</td>\n",
       "      <td>395</td>\n",
       "    </tr>\n",
       "    <tr>\n",
       "      <th>1</th>\n",
       "      <td>883873961</td>\n",
       "      <td>80.55589</td>\n",
       "      <td>7.16899</td>\n",
       "      <td>2.1</td>\n",
       "      <td>1695694025000</td>\n",
       "      <td>26/09/2023 12:00:00 AM</td>\n",
       "      <td>26/09/2023 2:07:05 AM</td>\n",
       "      <td>True</td>\n",
       "      <td>0</td>\n",
       "      <td>gps</td>\n",
       "      <td>152.95</td>\n",
       "      <td>26/09/2023 7:37:05 AM</td>\n",
       "      <td>395</td>\n",
       "    </tr>\n",
       "    <tr>\n",
       "      <th>2</th>\n",
       "      <td>883874460</td>\n",
       "      <td>80.55589</td>\n",
       "      <td>7.16899</td>\n",
       "      <td>3.6</td>\n",
       "      <td>1695694027676</td>\n",
       "      <td>26/09/2023 12:00:00 AM</td>\n",
       "      <td>26/09/2023 2:07:08 AM</td>\n",
       "      <td>True</td>\n",
       "      <td>0</td>\n",
       "      <td>gps</td>\n",
       "      <td>201.10</td>\n",
       "      <td>26/09/2023 7:37:08 AM</td>\n",
       "      <td>395</td>\n",
       "    </tr>\n",
       "    <tr>\n",
       "      <th>3</th>\n",
       "      <td>883874461</td>\n",
       "      <td>80.55589</td>\n",
       "      <td>7.16899</td>\n",
       "      <td>3.5</td>\n",
       "      <td>1695694028176</td>\n",
       "      <td>26/09/2023 12:00:00 AM</td>\n",
       "      <td>26/09/2023 2:07:08 AM</td>\n",
       "      <td>True</td>\n",
       "      <td>0</td>\n",
       "      <td>gps</td>\n",
       "      <td>201.39</td>\n",
       "      <td>26/09/2023 7:37:08 AM</td>\n",
       "      <td>395</td>\n",
       "    </tr>\n",
       "    <tr>\n",
       "      <th>4</th>\n",
       "      <td>883874462</td>\n",
       "      <td>80.55586</td>\n",
       "      <td>7.16899</td>\n",
       "      <td>3.1</td>\n",
       "      <td>1695694029000</td>\n",
       "      <td>26/09/2023 12:00:00 AM</td>\n",
       "      <td>26/09/2023 2:07:09 AM</td>\n",
       "      <td>True</td>\n",
       "      <td>0</td>\n",
       "      <td>gps</td>\n",
       "      <td>187.51</td>\n",
       "      <td>26/09/2023 7:37:09 AM</td>\n",
       "      <td>395</td>\n",
       "    </tr>\n",
       "  </tbody>\n",
       "</table>\n",
       "</div>"
      ],
      "text/plain": [
       "          Id  Longitude  Latitude  Accuracy      TimeStamp  \\\n",
       "0  883873960   80.55590   7.16898       2.3  1695694012000   \n",
       "1  883873961   80.55589   7.16899       2.1  1695694025000   \n",
       "2  883874460   80.55589   7.16899       3.6  1695694027676   \n",
       "3  883874461   80.55589   7.16899       3.5  1695694028176   \n",
       "4  883874462   80.55586   7.16899       3.1  1695694029000   \n",
       "\n",
       "                     Date               DateTime  IsGPSOn  BatLevel Provider  \\\n",
       "0  26/09/2023 12:00:00 AM  26/09/2023 2:06:52 AM     True         0      gps   \n",
       "1  26/09/2023 12:00:00 AM  26/09/2023 2:07:05 AM     True         0      gps   \n",
       "2  26/09/2023 12:00:00 AM  26/09/2023 2:07:08 AM     True         0      gps   \n",
       "3  26/09/2023 12:00:00 AM  26/09/2023 2:07:08 AM     True         0      gps   \n",
       "4  26/09/2023 12:00:00 AM  26/09/2023 2:07:09 AM     True         0      gps   \n",
       "\n",
       "   Bearing             DeviceTime  RepId  \n",
       "0   124.15  26/09/2023 7:36:54 AM    395  \n",
       "1   152.95  26/09/2023 7:37:05 AM    395  \n",
       "2   201.10  26/09/2023 7:37:08 AM    395  \n",
       "3   201.39  26/09/2023 7:37:08 AM    395  \n",
       "4   187.51  26/09/2023 7:37:09 AM    395  "
      ]
     },
     "execution_count": 6,
     "metadata": {},
     "output_type": "execute_result"
    }
   ],
   "source": [
    "df = pd.read_csv('../data/gps.csv')\n",
    "df.head()"
   ]
  },
  {
   "cell_type": "code",
   "execution_count": 7,
   "metadata": {},
   "outputs": [
    {
     "data": {
      "text/plain": [
       "(166593, 13)"
      ]
     },
     "execution_count": 7,
     "metadata": {},
     "output_type": "execute_result"
    }
   ],
   "source": [
    "df.shape"
   ]
  },
  {
   "cell_type": "code",
   "execution_count": 9,
   "metadata": {},
   "outputs": [
    {
     "name": "stdout",
     "output_type": "stream",
     "text": [
      "<class 'pandas.core.frame.DataFrame'>\n",
      "RangeIndex: 166593 entries, 0 to 166592\n",
      "Data columns (total 13 columns):\n",
      " #   Column      Non-Null Count   Dtype  \n",
      "---  ------      --------------   -----  \n",
      " 0   Id          166593 non-null  int64  \n",
      " 1   Longitude   166593 non-null  float64\n",
      " 2   Latitude    166593 non-null  float64\n",
      " 3   Accuracy    166593 non-null  float64\n",
      " 4   TimeStamp   166593 non-null  int64  \n",
      " 5   Date        166593 non-null  object \n",
      " 6   DateTime    166593 non-null  object \n",
      " 7   IsGPSOn     166593 non-null  bool   \n",
      " 8   BatLevel    166593 non-null  int64  \n",
      " 9   Provider    166593 non-null  object \n",
      " 10  Bearing     166593 non-null  float64\n",
      " 11  DeviceTime  166593 non-null  object \n",
      " 12  RepId       166593 non-null  int64  \n",
      "dtypes: bool(1), float64(4), int64(4), object(4)\n",
      "memory usage: 15.4+ MB\n"
     ]
    }
   ],
   "source": [
    "df.info()"
   ]
  },
  {
   "cell_type": "code",
   "execution_count": 8,
   "metadata": {},
   "outputs": [
    {
     "data": {
      "text/plain": [
       "Id            0\n",
       "Longitude     0\n",
       "Latitude      0\n",
       "Accuracy      0\n",
       "TimeStamp     0\n",
       "Date          0\n",
       "DateTime      0\n",
       "IsGPSOn       0\n",
       "BatLevel      0\n",
       "Provider      0\n",
       "Bearing       0\n",
       "DeviceTime    0\n",
       "RepId         0\n",
       "dtype: int64"
      ]
     },
     "execution_count": 8,
     "metadata": {},
     "output_type": "execute_result"
    }
   ],
   "source": [
    "df.isnull().sum()"
   ]
  },
  {
   "cell_type": "code",
   "execution_count": 21,
   "metadata": {},
   "outputs": [
    {
     "data": {
      "text/plain": [
       "Longitude\n",
       "80.59282    2314\n",
       "80.59281    1890\n",
       "80.59284    1799\n",
       "80.55588    1723\n",
       "80.55592    1703\n",
       "            ... \n",
       "80.57054       1\n",
       "80.55631       1\n",
       "80.58905       1\n",
       "80.55635       1\n",
       "80.59440       1\n",
       "Name: count, Length: 3328, dtype: int64"
      ]
     },
     "execution_count": 21,
     "metadata": {},
     "output_type": "execute_result"
    }
   ],
   "source": [
    "df['Longitude'].value_counts()"
   ]
  },
  {
   "cell_type": "code",
   "execution_count": 22,
   "metadata": {},
   "outputs": [
    {
     "data": {
      "text/plain": [
       "Date\n",
       "26/09/2023 12:00:00 AM    166593\n",
       "Name: count, dtype: int64"
      ]
     },
     "execution_count": 22,
     "metadata": {},
     "output_type": "execute_result"
    }
   ],
   "source": [
    "df['Date'].value_counts()"
   ]
  },
  {
   "cell_type": "code",
   "execution_count": null,
   "metadata": {},
   "outputs": [],
   "source": []
  }
 ],
 "metadata": {
  "kernelspec": {
   "display_name": "Python 3",
   "language": "python",
   "name": "python3"
  },
  "language_info": {
   "codemirror_mode": {
    "name": "ipython",
    "version": 3
   },
   "file_extension": ".py",
   "mimetype": "text/x-python",
   "name": "python",
   "nbconvert_exporter": "python",
   "pygments_lexer": "ipython3",
   "version": "3.11.5"
  }
 },
 "nbformat": 4,
 "nbformat_minor": 2
}
